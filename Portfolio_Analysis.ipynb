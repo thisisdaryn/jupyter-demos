{
  "cells": [
    {
      "metadata": {
        "trusted": true
      },
      "cell_type": "code",
      "source": "library(PerformanceAnalytics)\nlibrary(quantmod)\nlibrary(xts) \nlibrary(ggplot2)\nlibrary(highcharter)\nlibrary(purrr)\nlibrary(tidyr)\nlibrary(dplyr)",
      "execution_count": 1,
      "outputs": [
        {
          "output_type": "stream",
          "text": "Loading required package: xts\nLoading required package: zoo\n\nAttaching package: ‘zoo’\n\nThe following objects are masked from ‘package:base’:\n\n    as.Date, as.Date.numeric\n\n\nAttaching package: ‘PerformanceAnalytics’\n\nThe following object is masked from ‘package:graphics’:\n\n    legend\n\nLoading required package: TTR\nVersion 0.4-0 included new data defaults. See ?getSymbols.\nHighcharts (www.highcharts.com) is a Highsoft software product which is\nnot free for commercial and Governmental use\n\nAttaching package: ‘dplyr’\n\nThe following objects are masked from ‘package:xts’:\n\n    first, last\n\nThe following objects are masked from ‘package:stats’:\n\n    filter, lag\n\nThe following objects are masked from ‘package:base’:\n\n    intersect, setdiff, setequal, union\n\n",
          "name": "stderr"
        }
      ]
    },
    {
      "metadata": {
        "trusted": true
      },
      "cell_type": "code",
      "source": "symbols <- c(\"AAPL\", \"DIS\", \"GE\", \"JNJ\", \"KO\", \"MSFT\", \"SBUX\", \"SPY\", \"TGT\")\npr_daily <- getSymbols(symbols, src = \"yahoo\",\n           from = \"2007-12-31\",\n           to = \"2020-04-30\",\n           auto.assign = TRUE) %>% \n  map(~Ad(get(.))) %>% \n  reduce(merge)",
      "execution_count": 2,
      "outputs": [
        {
          "output_type": "stream",
          "text": "‘getSymbols’ currently uses auto.assign=TRUE by default, but will\nuse auto.assign=FALSE in 0.5-0. You will still be able to use\n‘loadSymbols’ to automatically load data. getOption(\"getSymbols.env\")\nand getOption(\"getSymbols.auto.assign\") will still be checked for\nalternate defaults.\n\nThis message is shown once per session and may be disabled by setting \noptions(\"getSymbols.warning4.0\"=FALSE). See ?getSymbols for details.\n\npausing 1 second between requests for more than 5 symbols\npausing 1 second between requests for more than 5 symbols\npausing 1 second between requests for more than 5 symbols\npausing 1 second between requests for more than 5 symbols\npausing 1 second between requests for more than 5 symbols\n",
          "name": "stderr"
        }
      ]
    },
    {
      "metadata": {
        "trusted": true
      },
      "cell_type": "code",
      "source": "names(pr_daily) <- symbols\nhead(pr_daily)",
      "execution_count": 3,
      "outputs": [
        {
          "output_type": "display_data",
          "data": {
            "text/plain": "               AAPL      DIS       GE      JNJ       KO     MSFT     SBUX\n2007-12-31 24.56307 27.38579 23.19337 46.11504 18.29796 26.80937 8.690571\n2008-01-02 24.16129 27.01251 22.99941 45.56885 18.21448 26.52319 8.198091\n2008-01-03 24.17245 26.95312 23.02445 45.58267 18.40530 26.63617 7.939115\n2008-01-04 22.32725 26.41015 22.54894 45.52044 18.44108 25.89062 7.688627\n2008-01-07 22.02839 26.43560 22.63652 46.22566 18.87640 26.06383 7.803257\n2008-01-08 21.23599 25.90961 22.14851 46.28097 18.95391 25.19025 8.431596\n                SPY      TGT\n2007-12-31 113.5825 36.39359\n2008-01-02 112.5881 36.03694\n2008-01-03 112.5337 36.08060\n2008-01-04 109.7759 34.99608\n2008-01-07 109.6827 35.65845\n2008-01-08 107.9115 35.62934"
          },
          "metadata": {}
        }
      ]
    },
    {
      "metadata": {
        "trusted": true
      },
      "cell_type": "code",
      "source": "pr_monthly <- to.monthly(pr_daily, indexAt = \"lastof\", OHLC = FALSE)\nhead(pr_monthly)",
      "execution_count": 4,
      "outputs": [
        {
          "output_type": "display_data",
          "data": {
            "text/plain": "               AAPL      DIS       GE      JNJ       KO     MSFT     SBUX\n2007-12-31 24.56307 27.38579 23.19337 46.11504 18.29796 26.80937 8.690571\n2008-01-31 16.78543 25.31574 22.12349 43.65372 17.59133 24.55014 8.028270\n2008-02-29 15.50321 27.49608 20.93090 43.12204 17.43032 20.56315 7.633437\n2008-03-31 17.79484 26.62225 23.37516 45.14731 18.38383 21.45523 7.429655\n2008-04-30 21.57081 27.51305 20.65300 46.69235 17.77979 21.56107 6.890471\n2008-05-31 23.40610 28.50566 19.40246 46.77612 17.29354 21.48868 7.722594\n                SPY      TGT\n2007-12-31 113.5825 36.39359\n2008-01-31 106.7151 40.33866\n2008-02-29 103.9573 38.39448\n2008-03-31 103.0277 36.98598\n2008-04-30 107.9383 38.77398\n2008-05-31 109.5699 39.04104"
          },
          "metadata": {}
        }
      ]
    },
    {
      "metadata": {
        "trusted": true
      },
      "cell_type": "code",
      "source": "rt_monthly <- na.omit(Return.calculate(pr_monthly, method = \"log\"))\ntail(rt_monthly)",
      "execution_count": 9,
      "outputs": [
        {
          "output_type": "display_data",
          "data": {
            "text/plain": "                  AAPL         DIS           GE         JNJ          KO\n2019-11-30  0.07469382  0.15419468  0.121561349  0.04735075 -0.01166276\n2019-12-31  0.09420392 -0.04096141 -0.008902104  0.05916453  0.03586586\n2020-01-31  0.05260192 -0.04468126  0.109384643  0.02035761  0.05363929\n2020-02-29 -0.12183040 -0.16178340 -0.134794429 -0.09530150 -0.08782116\n2020-03-31 -0.07231423 -0.19713541 -0.314020378 -0.02522622 -0.18090758\n2020-04-30  0.12354726  0.15014981 -0.187878530  0.13604481  0.06284215\n                  MSFT        SBUX           SPY         TGT\n2019-11-30  0.05776160  0.01522231  0.0355584020  0.16231877\n2019-12-31  0.04090124  0.02872996  0.0286413254  0.02527581\n2020-01-31  0.07645594 -0.03577809 -0.0004038932 -0.14648450\n2020-02-29 -0.04676473 -0.07379291 -0.0824752371 -0.06678109\n2020-03-31 -0.02690008 -0.17649897 -0.1333843154 -0.10245212\n2020-04-30  0.11781818  0.15627806  0.1288989223  0.18711444"
          },
          "metadata": {}
        }
      ]
    },
    {
      "metadata": {
        "trusted": true
      },
      "cell_type": "code",
      "source": "pw <- rep(1/9, 9)\n\nrt_rebal_mo <- Return.portfolio(rt_monthly, weights = pw, \n                                    rebalance_on = \"months\")",
      "execution_count": 6,
      "outputs": []
    },
    {
      "metadata": {
        "trusted": true
      },
      "cell_type": "code",
      "source": "head(rt_rebal_mo)",
      "execution_count": 12,
      "outputs": [
        {
          "output_type": "display_data",
          "data": {
            "text/plain": "           portfolio.returns\n2008-01-31       -0.08083828\n2008-02-29       -0.04188167\n2008-03-31        0.03158003\n2008-04-30        0.01390285\n2008-05-31        0.01791281\n2008-06-30       -0.09355567"
          },
          "metadata": {}
        }
      ]
    },
    {
      "metadata": {
        "trusted": true
      },
      "cell_type": "code",
      "source": "#options(repr.plot.width = 1, repr.plot.height = 0.75, repr.plot.res = 100)\nplot(rt_rebal_mo$portfolio.returns, main = \"Returns\") ",
      "execution_count": 14,
      "outputs": [
        {
          "output_type": "error",
          "ename": "ERROR",
          "evalue": "Error in replayPlot(obj): invalid graphics state\n",
          "traceback": [
            "Error in replayPlot(obj): invalid graphics state\nTraceback:\n"
          ]
        },
        {
          "output_type": "error",
          "ename": "ERROR",
          "evalue": "Error in replayPlot(obj): invalid graphics state\n",
          "traceback": [
            "Error in replayPlot(obj): invalid graphics state\nTraceback:\n"
          ]
        },
        {
          "output_type": "error",
          "ename": "ERROR",
          "evalue": "Error in replayPlot(obj): invalid graphics state\n",
          "traceback": [
            "Error in replayPlot(obj): invalid graphics state\nTraceback:\n"
          ]
        },
        {
          "output_type": "display_data",
          "data": {},
          "metadata": {
            "image/svg+xml": {
              "isolated": true
            }
          }
        }
      ]
    },
    {
      "metadata": {
        "trusted": true
      },
      "cell_type": "code",
      "source": "rt_rebal_mo <- merge.xts(rt_rebal_mo, rt_monthly)\ndf <- data.frame(rt_rebal_mo, date = index(rt_rebal_mo))\nhead(df)",
      "execution_count": 15,
      "outputs": [
        {
          "output_type": "display_data",
          "data": {
            "text/plain": "           portfolio.returns AAPL        DIS         GE          JNJ         \n2008-01-31 -0.08083828       -0.38073331 -0.07859813 -0.04722692 -0.054850532\n2008-02-29 -0.04188167       -0.07946392  0.08261746 -0.05541318 -0.012254197\n2008-03-31  0.03158003        0.13786138 -0.03229641  0.11044751  0.045896327\n2008-04-30  0.01390285        0.19243278  0.03291340 -0.12381350  0.033649642\n2008-05-31  0.01791281        0.08165552  0.03544198 -0.06246093  0.001792498\n2008-06-30 -0.09355567       -0.11979834 -0.07410785 -0.12913069 -0.036623041\n           KO           MSFT        SBUX        SPY          TGT         \n2008-01-31 -0.039383857 -0.08803374 -0.07926958 -0.062366178  0.102917717\n2008-02-29 -0.009194779 -0.17721680 -0.05043086 -0.026182251 -0.049396489\n2008-03-31  0.053260041  0.04246774 -0.02705878 -0.008982603 -0.037374911\n2008-04-30 -0.033409064  0.00492061 -0.07533998  0.046561369  0.047210433\n2008-05-31 -0.027728943 -0.00336281  0.11401088  0.015002940  0.006864178\n2008-06-30 -0.083556014 -0.02901842 -0.14466668 -0.087275530 -0.137824431\n           date      \n2008-01-31 2008-01-31\n2008-02-29 2008-02-29\n2008-03-31 2008-03-31\n2008-04-30 2008-04-30\n2008-05-31 2008-05-31\n2008-06-30 2008-06-30",
            "text/latex": "A data.frame: 6 x 11\n\\begin{tabular}{r|lllllllllll}\n  & portfolio.returns & AAPL & DIS & GE & JNJ & KO & MSFT & SBUX & SPY & TGT & date\\\\\n  & <dbl> & <dbl> & <dbl> & <dbl> & <dbl> & <dbl> & <dbl> & <dbl> & <dbl> & <dbl> & <date>\\\\\n\\hline\n\t2008-01-31 & -0.08083828 & -0.38073331 & -0.07859813 & -0.04722692 & -0.054850532 & -0.039383857 & -0.08803374 & -0.07926958 & -0.062366178 &  0.102917717 & 2008-01-31\\\\\n\t2008-02-29 & -0.04188167 & -0.07946392 &  0.08261746 & -0.05541318 & -0.012254197 & -0.009194779 & -0.17721680 & -0.05043086 & -0.026182251 & -0.049396489 & 2008-02-29\\\\\n\t2008-03-31 &  0.03158003 &  0.13786138 & -0.03229641 &  0.11044751 &  0.045896327 &  0.053260041 &  0.04246774 & -0.02705878 & -0.008982603 & -0.037374911 & 2008-03-31\\\\\n\t2008-04-30 &  0.01390285 &  0.19243278 &  0.03291340 & -0.12381350 &  0.033649642 & -0.033409064 &  0.00492061 & -0.07533998 &  0.046561369 &  0.047210433 & 2008-04-30\\\\\n\t2008-05-31 &  0.01791281 &  0.08165552 &  0.03544198 & -0.06246093 &  0.001792498 & -0.027728943 & -0.00336281 &  0.11401088 &  0.015002940 &  0.006864178 & 2008-05-31\\\\\n\t2008-06-30 & -0.09355567 & -0.11979834 & -0.07410785 & -0.12913069 & -0.036623041 & -0.083556014 & -0.02901842 & -0.14466668 & -0.087275530 & -0.137824431 & 2008-06-30\\\\\n\\end{tabular}\n",
            "text/markdown": "\nA data.frame: 6 x 11\n\n| <!--/--> | portfolio.returns &lt;dbl&gt; | AAPL &lt;dbl&gt; | DIS &lt;dbl&gt; | GE &lt;dbl&gt; | JNJ &lt;dbl&gt; | KO &lt;dbl&gt; | MSFT &lt;dbl&gt; | SBUX &lt;dbl&gt; | SPY &lt;dbl&gt; | TGT &lt;dbl&gt; | date &lt;date&gt; |\n|---|---|---|---|---|---|---|---|---|---|---|---|\n| 2008-01-31 | -0.08083828 | -0.38073331 | -0.07859813 | -0.04722692 | -0.054850532 | -0.039383857 | -0.08803374 | -0.07926958 | -0.062366178 |  0.102917717 | 2008-01-31 |\n| 2008-02-29 | -0.04188167 | -0.07946392 |  0.08261746 | -0.05541318 | -0.012254197 | -0.009194779 | -0.17721680 | -0.05043086 | -0.026182251 | -0.049396489 | 2008-02-29 |\n| 2008-03-31 |  0.03158003 |  0.13786138 | -0.03229641 |  0.11044751 |  0.045896327 |  0.053260041 |  0.04246774 | -0.02705878 | -0.008982603 | -0.037374911 | 2008-03-31 |\n| 2008-04-30 |  0.01390285 |  0.19243278 |  0.03291340 | -0.12381350 |  0.033649642 | -0.033409064 |  0.00492061 | -0.07533998 |  0.046561369 |  0.047210433 | 2008-04-30 |\n| 2008-05-31 |  0.01791281 |  0.08165552 |  0.03544198 | -0.06246093 |  0.001792498 | -0.027728943 | -0.00336281 |  0.11401088 |  0.015002940 |  0.006864178 | 2008-05-31 |\n| 2008-06-30 | -0.09355567 | -0.11979834 | -0.07410785 | -0.12913069 | -0.036623041 | -0.083556014 | -0.02901842 | -0.14466668 | -0.087275530 | -0.137824431 | 2008-06-30 |\n\n",
            "text/html": "<table>\n<caption>A data.frame: 6 x 11</caption>\n<thead>\n\t<tr><th></th><th scope=col>portfolio.returns</th><th scope=col>AAPL</th><th scope=col>DIS</th><th scope=col>GE</th><th scope=col>JNJ</th><th scope=col>KO</th><th scope=col>MSFT</th><th scope=col>SBUX</th><th scope=col>SPY</th><th scope=col>TGT</th><th scope=col>date</th></tr>\n\t<tr><th></th><th scope=col>&lt;dbl&gt;</th><th scope=col>&lt;dbl&gt;</th><th scope=col>&lt;dbl&gt;</th><th scope=col>&lt;dbl&gt;</th><th scope=col>&lt;dbl&gt;</th><th scope=col>&lt;dbl&gt;</th><th scope=col>&lt;dbl&gt;</th><th scope=col>&lt;dbl&gt;</th><th scope=col>&lt;dbl&gt;</th><th scope=col>&lt;dbl&gt;</th><th scope=col>&lt;date&gt;</th></tr>\n</thead>\n<tbody>\n\t<tr><th scope=row>2008-01-31</th><td>-0.08083828</td><td>-0.38073331</td><td>-0.07859813</td><td>-0.04722692</td><td>-0.054850532</td><td>-0.039383857</td><td>-0.08803374</td><td>-0.07926958</td><td>-0.062366178</td><td> 0.102917717</td><td>2008-01-31</td></tr>\n\t<tr><th scope=row>2008-02-29</th><td>-0.04188167</td><td>-0.07946392</td><td> 0.08261746</td><td>-0.05541318</td><td>-0.012254197</td><td>-0.009194779</td><td>-0.17721680</td><td>-0.05043086</td><td>-0.026182251</td><td>-0.049396489</td><td>2008-02-29</td></tr>\n\t<tr><th scope=row>2008-03-31</th><td> 0.03158003</td><td> 0.13786138</td><td>-0.03229641</td><td> 0.11044751</td><td> 0.045896327</td><td> 0.053260041</td><td> 0.04246774</td><td>-0.02705878</td><td>-0.008982603</td><td>-0.037374911</td><td>2008-03-31</td></tr>\n\t<tr><th scope=row>2008-04-30</th><td> 0.01390285</td><td> 0.19243278</td><td> 0.03291340</td><td>-0.12381350</td><td> 0.033649642</td><td>-0.033409064</td><td> 0.00492061</td><td>-0.07533998</td><td> 0.046561369</td><td> 0.047210433</td><td>2008-04-30</td></tr>\n\t<tr><th scope=row>2008-05-31</th><td> 0.01791281</td><td> 0.08165552</td><td> 0.03544198</td><td>-0.06246093</td><td> 0.001792498</td><td>-0.027728943</td><td>-0.00336281</td><td> 0.11401088</td><td> 0.015002940</td><td> 0.006864178</td><td>2008-05-31</td></tr>\n\t<tr><th scope=row>2008-06-30</th><td>-0.09355567</td><td>-0.11979834</td><td>-0.07410785</td><td>-0.12913069</td><td>-0.036623041</td><td>-0.083556014</td><td>-0.02901842</td><td>-0.14466668</td><td>-0.087275530</td><td>-0.137824431</td><td>2008-06-30</td></tr>\n</tbody>\n</table>\n"
          },
          "metadata": {}
        }
      ]
    },
    {
      "metadata": {
        "trusted": true
      },
      "cell_type": "code",
      "source": "df_narrow <- gather(df, key = \"Component\", value = \"Return\", -date)\ndf_narrow[c(1, 143, 285, 427, 569, 711, 853, 995, 1137, 1279),]\n\nbg_df <- filter(df_narrow, Component == \"portfolio.returns\") %>% \n  select(-Component)\nggplot(data = filter(df_narrow, Component != \"portfolio.returns\")) +\n  geom_line(data = bg_df, aes(x = date, y = Return), colour = \"#484848\") + \n  geom_line(alpha = 0.6, aes(x = date, y = Return, group = Component, colour = Component)) + \n  facet_wrap(~Component) + theme_bw() + \n  theme(legend.position = \"none\") ",
      "execution_count": null,
      "outputs": []
    },
    {
      "metadata": {
        "trusted": true
      },
      "cell_type": "code",
      "source": "window <- 24\n\npr_rolling_sd_24 <- rollapply(rt_rebal_mo, FUN = sd,\n          width = window) %>% \n  na.omit() \n\nhead(pr_rolling_sd_24)",
      "execution_count": null,
      "outputs": []
    },
    {
      "metadata": {
        "trusted": true
      },
      "cell_type": "code",
      "source": "highchart(type = \"stock\") %>% \n  hc_title(text = \"24-Month Rolling volatility\") %>% \n  hc_add_series(pr_rolling_sd_24) %>% \n  hc_add_theme(hc_theme_flat()) %>% \n  hc_yAxis(\n    labels = list(format = \"{value}%\"), \n    opposite = FALSE) %>%\n  hc_navigator(enabled = FALSE) %>% \n  hc_scrollbar(enabled = FALSE) %>% \n  hc_exporting(enabled = TRUE) %>% \n  hc_legend(enabled = FALSE)",
      "execution_count": null,
      "outputs": []
    },
    {
      "metadata": {
        "trusted": true
      },
      "cell_type": "code",
      "source": "",
      "execution_count": null,
      "outputs": []
    }
  ],
  "metadata": {
    "kernelspec": {
      "name": "r",
      "display_name": "R",
      "language": "R"
    },
    "language_info": {
      "mimetype": "text/x-r-source",
      "name": "R",
      "pygments_lexer": "r",
      "version": "3.5.3",
      "file_extension": ".r",
      "codemirror_mode": "r"
    }
  },
  "nbformat": 4,
  "nbformat_minor": 1
}